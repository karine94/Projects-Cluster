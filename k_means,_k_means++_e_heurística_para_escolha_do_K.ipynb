{
  "nbformat": 4,
  "nbformat_minor": 0,
  "metadata": {
    "colab": {
      "provenance": [],
      "authorship_tag": "ABX9TyNkszZ/nBTWjsTNS//xQW83",
      "include_colab_link": true
    },
    "kernelspec": {
      "name": "python3",
      "display_name": "Python 3"
    },
    "language_info": {
      "name": "python"
    }
  },
  "cells": [
    {
      "cell_type": "markdown",
      "metadata": {
        "id": "view-in-github",
        "colab_type": "text"
      },
      "source": [
        "<a href=\"https://colab.research.google.com/github/karine94/Projects-Cluster/blob/main/k_means%2C_k_means%2B%2B_e_heur%C3%ADstica_para_escolha_do_K.ipynb\" target=\"_parent\"><img src=\"https://colab.research.google.com/assets/colab-badge.svg\" alt=\"Open In Colab\"/></a>"
      ]
    },
    {
      "cell_type": "markdown",
      "source": [
        "## Inicialização do K Means++"
      ],
      "metadata": {
        "id": "FezMpLRLIR4W"
      }
    },
    {
      "cell_type": "code",
      "execution_count": null,
      "metadata": {
        "id": "UGB2TQ0sF2kO"
      },
      "outputs": [],
      "source": [
        "from sklearn.cluster import KMeans\n",
        "from sklearn.datasets import make_blobs\n",
        "from sklearn.metrics import pairwise_distances\n",
        "import matplotlib.pyplot as plt\n",
        "import numpy as np\n",
        "import pandas as pd"
      ]
    },
    {
      "cell_type": "code",
      "source": [
        "#make_blobs constrói gráficos muito apropriados  para rodarmos o k-means\n",
        "X, y = make_blobs(n_samples=30, centers=3, random_state=0) #random_state: não é pra ser randomico agora e sempre reinicializar da mesma maneira(serve para fns de teste mesmo)\n",
        "plt.scatter(X[:,0], X[:, 1])"
      ],
      "metadata": {
        "colab": {
          "base_uri": "https://localhost:8080/",
          "height": 283
        },
        "id": "VSPLZDODHNRV",
        "outputId": "205b1942-c85e-4d56-ba4b-37dee1160826"
      },
      "execution_count": null,
      "outputs": [
        {
          "output_type": "execute_result",
          "data": {
            "text/plain": [
              "<matplotlib.collections.PathCollection at 0x7f2c9eeb29a0>"
            ]
          },
          "metadata": {},
          "execution_count": 2
        },
        {
          "output_type": "display_data",
          "data": {
            "text/plain": [
              "<Figure size 432x288 with 1 Axes>"
            ],
            "image/png": "[encoded data removed]"
          },
          "metadata": {
            "needs_background": "light"
          }
        }
      ]
    },
    {
      "cell_type": "code",
      "source": [
        "k = 3\n",
        "num_samples, num_dimensions = X.shape\n",
        "\n",
        "#escolha do primeiro centróide\n",
        "np.random.seed(0)\n",
        "centroides = np.zeros((k, num_dimensions)) #os 3 centroides começam com zero\n",
        "rand_index = np.random.choice(num_samples) #vai me dar 1 valor entre 0 e 29, que são os indices de todos os 30 pontos que existem\n",
        "centroides[0] = X[rand_index]  #aqui eu sorteio 1 deles e ele vai ser meu primeiro centróide\n",
        "\n",
        "plt.scatter(X[:, 0], X[:, 1], color='blue')\n",
        "plt.scatter(centroides[0][0], centroides[0][1], color='red')\n",
        "plt.show()"
      ],
      "metadata": {
        "colab": {
          "base_uri": "https://localhost:8080/",
          "height": 266
        },
        "id": "9GkS4iXPIPX3",
        "outputId": "5c785bfc-8d5d-4691-e485-efba4c8ac676"
      },
      "execution_count": null,
      "outputs": [
        {
          "output_type": "display_data",
          "data": {
            "text/plain": [
              "<Figure size 432x288 with 1 Axes>"
            ],
            "image/png": "[encoded data removed]"
          },
          "metadata": {
            "needs_background": "light"
          }
        }
      ]
    },
    {
      "cell_type": "code",
      "source": [
        "#Computa todas as distâncias do primeiro centróide para todas as amostras\n",
        "distances_to_centroids  = pairwise_distances(X, [centroides[0]], metric= 'euclidean').flatten()\n",
        "distances_to_centroids "
      ],
      "metadata": {
        "colab": {
          "base_uri": "https://localhost:8080/"
        },
        "id": "mt_u4KGvK2N4",
        "outputId": "e4f6551e-c276-442f-a447-870e5fde8d9b"
      },
      "execution_count": null,
      "outputs": [
        {
          "output_type": "execute_result",
          "data": {
            "text/plain": [
              "array([1.7409429 , 0.15750784, 0.99215179, 1.59150835, 4.15385438,\n",
              "       4.02766084, 5.04238964, 0.96568179, 4.08140553, 0.96627334,\n",
              "       1.75762294, 0.71293257, 0.        , 4.87638081, 2.7592718 ,\n",
              "       3.51266412, 4.08375103, 3.61938806, 2.21125591, 3.3186864 ,\n",
              "       5.12004454, 4.35696346, 3.21023203, 2.77075145, 4.72100626,\n",
              "       3.83765893, 1.84721188, 4.48268396, 1.4022226 , 3.41724106])"
            ]
          },
          "metadata": {},
          "execution_count": 4
        }
      ]
    },
    {
      "cell_type": "code",
      "source": [
        "#Hora de computadar os outros dois centróides :)\n",
        "for i in range(1, k):\n",
        "  #verificando qua sera a amostra escolhida para ser o centroide 1\n",
        "   prob = distances_to_centroids ** 2\n",
        "   rand_index = np.random.choice(num_samples, size = 1, p = prob / np.sum(prob))\n",
        "   print(\"Probabilidade de cada amostra ser escolhida:\")\n",
        "   print(prob / np.sum(prob))\n",
        "   print(\"\\n\")\n",
        "   print(\"Cluster escolhido:\", rand_index)\n",
        "   print(\"\\n\")\n",
        "   #guardando o valor do centroide 1, pois o zero já foi escolhido lá em cima\n",
        "   centroides[i] = X[rand_index]\n",
        "\n",
        "#computando a distância das amostras em relação ao centróide 1\n",
        "   distances_new = pairwise_distances(X, [centroides[i]], metric = 'euclidean').flatten()\n",
        "   print(\"Distancia de cada amostra ao centróide\", i - 1, ':')\n",
        "   print(distances_to_centroids)\n",
        "   print(\"\\n\")\n",
        "   print(\"Distancia de cada amostra ao centróide\", i, ':')\n",
        "   print(distances_new)\n",
        "\n",
        "#verificando as distancias de cada amostra em relação ao centroide 0 e 1\n",
        "#para que as amostras se enquadrem nos centróides em que possuem menos distância\n",
        "#o vstack monta uma pilha das amostra até o cent. 0 e das amostras ate o cent. 1\n",
        "   distances_to_centroids = np.min(np.vstack((distances_to_centroids, distances_new)), axis = 0)\n",
        "   print(\"\\n\")\n",
        "   print(\"Distancias atualizadas:\")\n",
        "   print(distances_to_centroids)\n",
        "   print(\"\\n\")\n",
        "   plt.scatter(X[:, 0], X[:, 1], color='blue')\n",
        "   for j in range(0, i + 1):\n",
        "     plt.scatter(centroides[j,0], centroides[j,1], color='red')\n",
        "   plt.show()\n",
        "   print(\"\\n\")"
      ],
      "metadata": {
        "colab": {
          "base_uri": "https://localhost:8080/",
          "height": 1000
        },
        "id": "ZmYm0QiyLtm5",
        "outputId": "38ee90df-e21c-4d85-9d22-679bc43d7a71"
      },
      "execution_count": null,
      "outputs": [
        {
          "output_type": "stream",
          "name": "stdout",
          "text": [
            "Probabilidade de cada amostra ser escolhida:\n",
            "[9.64158448e-03 7.89193848e-05 3.13137873e-03 8.05744220e-03\n",
            " 5.48885667e-02 5.16042109e-02 8.08820517e-02 2.96652111e-03\n",
            " 5.29906020e-02 2.97015662e-03 9.82722229e-03 1.61687431e-03\n",
            " 0.00000000e+00 7.56440170e-02 2.42196756e-02 3.92511699e-02\n",
            " 5.30515247e-02 4.16725096e-02 1.55545471e-02 3.50357796e-02\n",
            " 8.33924694e-02 6.03875196e-02 3.27832650e-02 2.44216215e-02\n",
            " 7.09003710e-02 4.68502706e-02 1.08545740e-02 6.39227718e-02\n",
            " 6.25479791e-03 3.71475852e-02]\n",
            "\n",
            "\n",
            "Cluster escolhido: [20]\n",
            "\n",
            "\n",
            "Distancia de cada amostra ao centróide 0 :\n",
            "[1.7409429  0.15750784 0.99215179 1.59150835 4.15385438 4.02766084\n",
            " 5.04238964 0.96568179 4.08140553 0.96627334 1.75762294 0.71293257\n",
            " 0.         4.87638081 2.7592718  3.51266412 4.08375103 3.61938806\n",
            " 2.21125591 3.3186864  5.12004454 4.35696346 3.21023203 2.77075145\n",
            " 4.72100626 3.83765893 1.84721188 4.48268396 1.4022226  3.41724106]\n",
            "\n",
            "\n",
            "Distancia de cada amostra ao centróide 1 :\n",
            "[5.77796672 5.23551652 5.79057222 5.66089591 1.75759202 2.06099719\n",
            " 4.21458253 6.0831336  2.79460676 5.75234968 6.73733837 4.93977467\n",
            " 5.12004454 0.40345639 2.54091231 2.43903432 2.61258334 4.19390606\n",
            " 6.04350503 2.11666425 0.         2.22606469 3.13922648 3.58905497\n",
            " 0.5913443  2.29368584 3.27463021 3.87450301 6.50482165 2.76810576]\n",
            "\n",
            "\n",
            "Distancias atualizadas:\n",
            "[1.7409429  0.15750784 0.99215179 1.59150835 1.75759202 2.06099719\n",
            " 4.21458253 0.96568179 2.79460676 0.96627334 1.75762294 0.71293257\n",
            " 0.         0.40345639 2.54091231 2.43903432 2.61258334 3.61938806\n",
            " 2.21125591 2.11666425 0.         2.22606469 3.13922648 2.77075145\n",
            " 0.5913443  2.29368584 1.84721188 3.87450301 1.4022226  2.76810576]\n",
            "\n",
            "\n"
          ]
        },
        {
          "output_type": "display_data",
          "data": {
            "text/plain": [
              "<Figure size 432x288 with 1 Axes>"
            ],
            "image/png": "[encoded data removed]"
          },
          "metadata": {
            "needs_background": "light"
          }
        },
        {
          "output_type": "stream",
          "name": "stdout",
          "text": [
            "\n",
            "\n",
            "Probabilidade de cada amostra ser escolhida:\n",
            "[0.02120093 0.00017354 0.0068856  0.01771755 0.02160836 0.02971259\n",
            " 0.12424957 0.0065231  0.05462949 0.00653109 0.02160912 0.00355535\n",
            " 0.         0.00113862 0.04516116 0.04161229 0.0477448  0.09163388\n",
            " 0.03420297 0.03133933 0.         0.03466261 0.06893361 0.05370082\n",
            " 0.00244606 0.03680049 0.02386817 0.10500688 0.0137537  0.05359831]\n",
            "\n",
            "\n",
            "Cluster escolhido: [27]\n",
            "\n",
            "\n",
            "Distancia de cada amostra ao centróide 1 :\n",
            "[1.7409429  0.15750784 0.99215179 1.59150835 1.75759202 2.06099719\n",
            " 4.21458253 0.96568179 2.79460676 0.96627334 1.75762294 0.71293257\n",
            " 0.         0.40345639 2.54091231 2.43903432 2.61258334 3.61938806\n",
            " 2.21125591 2.11666425 0.         2.22606469 3.13922648 2.77075145\n",
            " 0.5913443  2.29368584 1.84721188 3.87450301 1.4022226  2.76810576]\n",
            "\n",
            "\n",
            "Distancia de cada amostra ao centróide 2 :\n",
            "[6.05820969 4.63989707 4.44629652 3.79134904 2.16376204 4.84723769\n",
            " 0.58336837 5.13863971 1.12010149 4.41665324 5.25534247 3.84497792\n",
            " 4.48268396 3.47420473 3.98208793 4.76438392 1.29865594 6.28144241\n",
            " 3.7601161  4.16826186 3.87450301 1.64845306 5.17635156 5.23844565\n",
            " 4.04763917 1.72505947 3.43436161 0.         5.66799353 5.00146537]\n",
            "\n",
            "\n",
            "Distancias atualizadas:\n",
            "[1.7409429  0.15750784 0.99215179 1.59150835 1.75759202 2.06099719\n",
            " 0.58336837 0.96568179 1.12010149 0.96627334 1.75762294 0.71293257\n",
            " 0.         0.40345639 2.54091231 2.43903432 1.29865594 3.61938806\n",
            " 2.21125591 2.11666425 0.         1.64845306 3.13922648 2.77075145\n",
            " 0.5913443  1.72505947 1.84721188 0.         1.4022226  2.76810576]\n",
            "\n",
            "\n"
          ]
        },
        {
          "output_type": "display_data",
          "data": {
            "text/plain": [
              "<Figure size 432x288 with 1 Axes>"
            ],
            "image/png": "[encoded data removed]"
          },
          "metadata": {
            "needs_background": "light"
          }
        },
        {
          "output_type": "stream",
          "name": "stdout",
          "text": [
            "\n",
            "\n"
          ]
        }
      ]
    }
  ]
}